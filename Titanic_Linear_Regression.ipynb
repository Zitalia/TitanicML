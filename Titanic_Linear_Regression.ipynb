{
 "cells": [
  {
   "cell_type": "markdown",
   "metadata": {},
   "source": [
    "![alt text](data/linear.jpg \"Title\")\n",
    "## REGRESSION LINEAIRE"
   ]
  },
  {
   "cell_type": "code",
   "execution_count": 6,
   "metadata": {},
   "outputs": [],
   "source": [
    "import pandas as pd\n",
    "import numpy as np\n",
    "from sklearn.model_selection import train_test_split\n",
    "import matplotlib.pyplot as plt\n",
    "import seaborn as sns; \n",
    "from scipy import stats\n",
    "import statsmodels.api as sm\n",
    "from sklearn import datasets, linear_model\n",
    "from sklearn.metrics import mean_squared_error, r2_score"
   ]
  },
  {
   "cell_type": "code",
   "execution_count": 7,
   "metadata": {},
   "outputs": [],
   "source": [
    "train = pd.read_csv(\"data/train_clean.csv\", sep=',')\n",
    "test = pd.read_csv(\"data/test_clean.csv\", sep =',')"
   ]
  },
  {
   "cell_type": "markdown",
   "metadata": {},
   "source": [
    "### Elaborer des modèles de régression linaire pour prédire la variable (target) alive. En sélectionnant comme variables explicatives (features) :"
   ]
  },
  {
   "cell_type": "markdown",
   "metadata": {},
   "source": [
    "### On applique une régression linéaire avec la feature Age et on tente de prédire Survived"
   ]
  },
  {
   "cell_type": "code",
   "execution_count": 8,
   "metadata": {},
   "outputs": [],
   "source": [
    "Xtrain,Xtest, ytrain,ytest = train_test_split(train['Age'],train['Survived'],test_size=0.3)"
   ]
  },
  {
   "cell_type": "code",
   "execution_count": 9,
   "metadata": {},
   "outputs": [],
   "source": [
    "regr = linear_model.LinearRegression(normalize=True)\n",
    "# Training du model de régression linéaire\n",
    "Xtrain = Xtrain.values.reshape(-1,1)\n",
    "Xtrain = Xtrain.reshape(-1,1)\n",
    "Xtest = Xtest.values.reshape(-1,1)\n",
    "Xtest = Xtest.reshape(-1,1)\n",
    "regr.fit(Xtrain, ytrain, sample_weight=None)\n",
    "y_pred = regr.predict(Xtest)"
   ]
  },
  {
   "cell_type": "code",
   "execution_count": 10,
   "metadata": {},
   "outputs": [
    {
     "data": {
      "image/png": "[encoded data removed]",
      "text/plain": [
       "<Figure size 432x288 with 1 Axes>"
      ]
     },
     "metadata": {},
     "output_type": "display_data"
    }
   ],
   "source": [
    "plt.scatter(Xtest, ytest,  color='grey')\n",
    "plt.plot(Xtest, y_pred, color='r', linewidth=3)\n",
    "plt.xticks(())\n",
    "plt.yticks(())\n",
    "plt.show()"
   ]
  },
  {
   "cell_type": "code",
   "execution_count": 11,
   "metadata": {},
   "outputs": [
    {
     "name": "stdout",
     "output_type": "stream",
     "text": [
      "Coefficients: \n",
      " [-0.00310583]\n",
      "Mean squared error: 0.24\n",
      "Coefficient of determination: -0.00\n"
     ]
    }
   ],
   "source": [
    "# The coefficients\n",
    "print('Coefficients: \\n', regr.coef_)\n",
    "# The mean squared error\n",
    "print('Mean squared error: %.2f'\n",
    "      % mean_squared_error(ytest, y_pred))\n",
    "# The coefficient of determination: 1 is perfect prediction\n",
    "print('Coefficient of determination: %.2f'\n",
    "      % r2_score(ytest, y_pred))"
   ]
  },
  {
   "cell_type": "markdown",
   "metadata": {},
   "source": [
    "Le Coefficient de détermination est très bas, une regression linéaire ne s'applique pas à ce type de données.\n",
    "\n",
    "### On applique une régression linéaire avec la feature Femme (categorisation de Sexe) et on tente de prédire Survived"
   ]
  },
  {
   "cell_type": "code",
   "execution_count": 12,
   "metadata": {},
   "outputs": [],
   "source": [
    "dumm = pd.get_dummies(train['Sex'])\n",
    "dumm = dumm.pop('female')\n",
    "Xtrain,Xtest, ytrain,ytest = train_test_split(dumm,train['Survived'],test_size=0.3)"
   ]
  },
  {
   "cell_type": "code",
   "execution_count": 13,
   "metadata": {},
   "outputs": [],
   "source": [
    "regr = linear_model.LinearRegression(normalize=True)\n",
    "# Training du model de régression linéaire\n",
    "Xtrain = Xtrain.values.reshape(-1,1)\n",
    "Xtrain = Xtrain.reshape(-1,1)\n",
    "Xtest = Xtest.values.reshape(-1,1)\n",
    "Xtest = Xtest.reshape(-1,1)\n",
    "regr.fit(Xtrain, ytrain, sample_weight=None)\n",
    "y_pred = regr.predict(Xtest)"
   ]
  },
  {
   "cell_type": "code",
   "execution_count": 14,
   "metadata": {},
   "outputs": [
    {
     "data": {
      "image/png": "[encoded data removed]",
      "text/plain": [
       "<Figure size 432x288 with 1 Axes>"
      ]
     },
     "metadata": {},
     "output_type": "display_data"
    }
   ],
   "source": [
    "plt.scatter(Xtest, ytest,  color='grey')\n",
    "plt.plot(Xtest, y_pred, color='r', linewidth=3)\n",
    "plt.xticks(())\n",
    "plt.yticks(())\n",
    "plt.show()"
   ]
  },
  {
   "cell_type": "code",
   "execution_count": 15,
   "metadata": {},
   "outputs": [
    {
     "name": "stdout",
     "output_type": "stream",
     "text": [
      "Coefficients: \n",
      " [0.54777687]\n",
      "Mean squared error: 0.16\n",
      "Coefficient of determination: 0.33\n"
     ]
    }
   ],
   "source": [
    "# The coefficients\n",
    "print('Coefficients: \\n', regr.coef_)\n",
    "# The mean squared error\n",
    "print('Mean squared error: %.2f'\n",
    "      % mean_squared_error(ytest, y_pred))\n",
    "# The coefficient of determination: 1 is perfect prediction\n",
    "print('Coefficient of determination: %.2f'\n",
    "      % r2_score(ytest, y_pred))"
   ]
  },
  {
   "cell_type": "markdown",
   "metadata": {},
   "source": [
    "Le Coefficient de détermination est très bas, une regression linéaire ne s'applique pas à ce type de données."
   ]
  },
  {
   "cell_type": "markdown",
   "metadata": {},
   "source": [
    "\n",
    "### On applique une régression linéaire avec la feature Pclass et on tente de prédire Survived"
   ]
  },
  {
   "cell_type": "code",
   "execution_count": 16,
   "metadata": {},
   "outputs": [],
   "source": [
    "Xtrain,Xtest, ytrain,ytest = train_test_split(train['Pclass'],train['Survived'],test_size=0.3)"
   ]
  },
  {
   "cell_type": "code",
   "execution_count": 17,
   "metadata": {},
   "outputs": [],
   "source": [
    "regr = linear_model.LinearRegression(normalize=True)\n",
    "# Training du model de régression linéaire\n",
    "Xtrain = Xtrain.values.reshape(-1,1)\n",
    "Xtrain = Xtrain.reshape(-1,1)\n",
    "Xtest = Xtest.values.reshape(-1,1)\n",
    "Xtest = Xtest.reshape(-1,1)\n",
    "regr.fit(Xtrain, ytrain, sample_weight=None)\n",
    "y_pred = regr.predict(Xtest)"
   ]
  },
  {
   "cell_type": "code",
   "execution_count": 18,
   "metadata": {},
   "outputs": [
    {
     "data": {
      "image/png": "[encoded data removed]",
      "text/plain": [
       "<Figure size 432x288 with 1 Axes>"
      ]
     },
     "metadata": {},
     "output_type": "display_data"
    }
   ],
   "source": [
    "plt.scatter(Xtest, ytest,  color='grey')\n",
    "plt.plot(Xtest, y_pred, color='r', linewidth=3)\n",
    "plt.xticks(())\n",
    "plt.yticks(())\n",
    "plt.show()"
   ]
  },
  {
   "cell_type": "code",
   "execution_count": 19,
   "metadata": {},
   "outputs": [
    {
     "name": "stdout",
     "output_type": "stream",
     "text": [
      "Coefficients: \n",
      " [-0.17796028]\n",
      "Mean squared error: 0.19\n",
      "Coefficient of determination: 0.15\n"
     ]
    }
   ],
   "source": [
    "# The coefficients\n",
    "print('Coefficients: \\n', regr.coef_)\n",
    "# The mean squared error\n",
    "print('Mean squared error: %.2f'\n",
    "      % mean_squared_error(ytest, y_pred))\n",
    "# The coefficient of determination: 1 is perfect prediction\n",
    "print('Coefficient of determination: %.2f'\n",
    "      % r2_score(ytest, y_pred))"
   ]
  },
  {
   "cell_type": "markdown",
   "metadata": {},
   "source": [
    "Le Coefficient de détermination est très bas, une regression linéaire ne s'applique pas à ce type de données.\n"
   ]
  },
  {
   "cell_type": "markdown",
   "metadata": {},
   "source": [
    "### On applique une régression linéaire avec la feature Pclass et on tente de prédire Survived"
   ]
  },
  {
   "cell_type": "code",
   "execution_count": 20,
   "metadata": {},
   "outputs": [],
   "source": [
    "Xtrain,Xtest, ytrain,ytest = train_test_split(train['Fare'],train['Survived'],test_size=0.3)"
   ]
  },
  {
   "cell_type": "code",
   "execution_count": 21,
   "metadata": {},
   "outputs": [],
   "source": [
    "regr = linear_model.LinearRegression(normalize=True)\n",
    "# Training du model de régression linéaire\n",
    "Xtrain = Xtrain.values.reshape(-1,1)\n",
    "Xtrain = Xtrain.reshape(-1,1)\n",
    "Xtest = Xtest.values.reshape(-1,1)\n",
    "Xtest = Xtest.reshape(-1,1)\n",
    "regr.fit(Xtrain, ytrain, sample_weight=None)\n",
    "y_pred = regr.predict(Xtest)"
   ]
  },
  {
   "cell_type": "code",
   "execution_count": 22,
   "metadata": {},
   "outputs": [
    {
     "data": {
      "image/png": "[encoded data removed]",
      "text/plain": [
       "<Figure size 432x288 with 1 Axes>"
      ]
     },
     "metadata": {
      "needs_background": "light"
     },
     "output_type": "display_data"
    }
   ],
   "source": [
    "plt.scatter(Xtest, ytest,  color='grey')\n",
    "plt.plot(Xtest, y_pred, color='r', linewidth=3)\n",
    "plt.show()"
   ]
  },
  {
   "cell_type": "code",
   "execution_count": 23,
   "metadata": {},
   "outputs": [
    {
     "name": "stdout",
     "output_type": "stream",
     "text": [
      "Coefficients: \n",
      " [0.0026803]\n",
      "Mean squared error: 0.24\n",
      "Coefficient of determination: -0.00\n"
     ]
    }
   ],
   "source": [
    "# The coefficients\n",
    "print('Coefficients: \\n', regr.coef_)\n",
    "# The mean squared error\n",
    "print('Mean squared error: %.2f'\n",
    "      % mean_squared_error(ytest, y_pred))\n",
    "# The coefficient of determination: 1 is perfect prediction\n",
    "print('Coefficient of determination: %.2f'\n",
    "      % r2_score(ytest, y_pred))"
   ]
  },
  {
   "cell_type": "markdown",
   "metadata": {},
   "source": [
    "Le Coefficient de détermination est très bas, une regression linéaire ne s'applique pas à ce type de données.\n"
   ]
  },
  {
   "cell_type": "markdown",
   "metadata": {},
   "source": [
    "## Régression Linéaire Multivariée : \n",
    "### Régression linéaire sur les variables Classes , Sexe, Age et Tarifs"
   ]
  },
  {
   "cell_type": "code",
   "execution_count": 24,
   "metadata": {},
   "outputs": [],
   "source": [
    "y= train.pop('Survived')\n",
    "X = train"
   ]
  },
  {
   "cell_type": "code",
   "execution_count": 25,
   "metadata": {},
   "outputs": [],
   "source": [
    "X = X.drop(columns=['PassengerId','SibSp', 'Parch','Embarked'])\n",
    "X= pd.get_dummies(X)\n",
    "X=X.drop(columns=['Sex_male'])"
   ]
  },
  {
   "cell_type": "code",
   "execution_count": 26,
   "metadata": {},
   "outputs": [],
   "source": [
    "Xtrain,Xtest, ytrain,ytest = train_test_split(X,y,test_size=0.3)"
   ]
  },
  {
   "cell_type": "code",
   "execution_count": 27,
   "metadata": {},
   "outputs": [],
   "source": [
    "from sklearn import datasets, linear_model\n",
    "regr = linear_model.LinearRegression(normalize=True)\n",
    "# Training du model de régression linéaire\n",
    "regr.fit(Xtrain, ytrain)\n",
    "y_pred = regr.predict(Xtest)"
   ]
  },
  {
   "cell_type": "code",
   "execution_count": 28,
   "metadata": {},
   "outputs": [
    {
     "data": {
      "text/plain": [
       "[<matplotlib.lines.Line2D at 0x1bf2b2bd3c8>]"
      ]
     },
     "execution_count": 28,
     "metadata": {},
     "output_type": "execute_result"
    },
    {
     "data": {
      "image/png": "[encoded data removed]",
      "text/plain": [
       "<Figure size 432x288 with 1 Axes>"
      ]
     },
     "metadata": {
      "needs_background": "light"
     },
     "output_type": "display_data"
    }
   ],
   "source": [
    "plt.plot(np.sort(ytest,axis=0))\n",
    "plt.plot(np.sort(y_pred,axis=0),c='r')"
   ]
  },
  {
   "cell_type": "code",
   "execution_count": 29,
   "metadata": {},
   "outputs": [
    {
     "name": "stdout",
     "output_type": "stream",
     "text": [
      "coeff : \n",
      " [-1.83900404e-01 -4.87752461e-03  1.11408365e-04  5.02557674e-01] \n",
      " Mean square error : 0.14816119100790967 \n",
      " Le Rcarré :  0.36125273811812075\n"
     ]
    }
   ],
   "source": [
    "print('coeff : \\n',regr.coef_,\n",
    "'\\n Mean square error :',mean_squared_error(ytest,y_pred),\n",
    "'\\n Le Rcarré : ', r2_score(ytest,y_pred))"
   ]
  },
  {
   "cell_type": "markdown",
   "metadata": {},
   "source": [
    "Cette droite semble suivre \n",
    "\n",
    "### On observe les corrélations, entres les différentes variables:"
   ]
  },
  {
   "cell_type": "code",
   "execution_count": 30,
   "metadata": {},
   "outputs": [
    {
     "data": {
      "image/png": "[encoded data removed]",
      "text/plain": [
       "<Figure size 1008x360 with 2 Axes>"
      ]
     },
     "metadata": {
      "needs_background": "light"
     },
     "output_type": "display_data"
    }
   ],
   "source": [
    "train= pd.get_dummies(train)\n",
    "corr = train.corr()\n",
    "\n",
    "plt.figure(figsize = (14,5))\n",
    "mask = np.zeros(corr.shape, dtype=bool)\n",
    "mask[np.triu_indices(len(mask))] = True\n",
    "sns.heatmap(corr, vmin = -1, vmax = 1, center = 0, cmap = \"coolwarm\", annot = True, mask = mask)\n",
    "# fix for mpl bug that cuts off top/bottom of seaborn viz, Tres pratique ce petit bout de code\n",
    "b, t = plt.ylim() # discover the values for bottom and top\n",
    "b += 0.5 # Add 0.5 to the bottom\n",
    "t -= 0.5 # Subtract 0.5 from the top\n",
    "plt.ylim(b, t) # update the ylim(bottom, top) values\n",
    "plt.show() # ta-da!"
   ]
  },
  {
   "cell_type": "markdown",
   "metadata": {},
   "source": [
    "### Regression linéaire sur les variables Age , Sexe , Et Pclass : "
   ]
  },
  {
   "cell_type": "code",
   "execution_count": 31,
   "metadata": {},
   "outputs": [],
   "source": [
    "train = pd.read_csv(\"data/train_clean.csv\", sep=',')\n",
    "test = pd.read_csv(\"data/test_clean.csv\", sep =',')"
   ]
  },
  {
   "cell_type": "code",
   "execution_count": 32,
   "metadata": {},
   "outputs": [],
   "source": [
    "y= train.pop('Survived')\n",
    "X = train"
   ]
  },
  {
   "cell_type": "code",
   "execution_count": 33,
   "metadata": {},
   "outputs": [],
   "source": [
    "X = X.drop(columns=['PassengerId','SibSp', 'Parch','Embarked','Fare'])\n",
    "X= pd.get_dummies(X)\n",
    "X=X.drop(columns=['Sex_male'])"
   ]
  },
  {
   "cell_type": "code",
   "execution_count": 34,
   "metadata": {},
   "outputs": [],
   "source": [
    "Xtrain,Xtest, ytrain,ytest = train_test_split(X,y,test_size=0.3)"
   ]
  },
  {
   "cell_type": "code",
   "execution_count": 35,
   "metadata": {},
   "outputs": [],
   "source": [
    "from sklearn import datasets, linear_model\n",
    "regr = linear_model.LinearRegression(normalize=True)\n",
    "# Training du model de régression linéaire\n",
    "regr.fit(Xtrain, ytrain)\n",
    "y_pred = regr.predict(Xtest)"
   ]
  },
  {
   "cell_type": "code",
   "execution_count": 36,
   "metadata": {},
   "outputs": [
    {
     "data": {
      "text/plain": [
       "[<matplotlib.lines.Line2D at 0x1bf2b690708>]"
      ]
     },
     "execution_count": 36,
     "metadata": {},
     "output_type": "execute_result"
    },
    {
     "data": {
      "image/png": "[encoded data removed]",
      "text/plain": [
       "<Figure size 432x288 with 1 Axes>"
      ]
     },
     "metadata": {
      "needs_background": "light"
     },
     "output_type": "display_data"
    }
   ],
   "source": [
    "plt.plot(np.sort(ytest,axis=0))\n",
    "plt.plot(np.sort(y_pred,axis=0),c='r')"
   ]
  },
  {
   "cell_type": "code",
   "execution_count": 37,
   "metadata": {},
   "outputs": [
    {
     "name": "stdout",
     "output_type": "stream",
     "text": [
      "coeff : \n",
      " [-0.18701993 -0.00393255  0.50479462] \n",
      " Mean square error : 0.1672637381366293 \n",
      " Le Rcarré :  0.3212683204561997\n"
     ]
    }
   ],
   "source": [
    "print('coeff : \\n',regr.coef_,\n",
    "'\\n Mean square error :',mean_squared_error(ytest,y_pred),\n",
    "'\\n Le Rcarré : ', r2_score(ytest,y_pred))"
   ]
  },
  {
   "cell_type": "markdown",
   "metadata": {},
   "source": [
    "Le Rcarré est très proche de zéro donc le pouvoir de prédiction est faible.\n",
    "### Regression linéaire sur les variables Age , Tarif , Et Pclass : "
   ]
  },
  {
   "cell_type": "code",
   "execution_count": 38,
   "metadata": {},
   "outputs": [],
   "source": [
    "train = pd.read_csv(\"data/train_clean.csv\", sep=',')\n",
    "test = pd.read_csv(\"data/test_clean.csv\", sep =',')"
   ]
  },
  {
   "cell_type": "code",
   "execution_count": 39,
   "metadata": {},
   "outputs": [],
   "source": [
    "y= train.pop('Survived')\n",
    "X = train"
   ]
  },
  {
   "cell_type": "code",
   "execution_count": 40,
   "metadata": {},
   "outputs": [],
   "source": [
    "X = X.drop(columns=['PassengerId','SibSp', 'Parch','Embarked','Sex'])"
   ]
  },
  {
   "cell_type": "code",
   "execution_count": 41,
   "metadata": {},
   "outputs": [],
   "source": [
    "Xtrain,Xtest, ytrain,ytest = train_test_split(X,y,test_size=0.3)"
   ]
  },
  {
   "cell_type": "code",
   "execution_count": 42,
   "metadata": {},
   "outputs": [],
   "source": [
    "from sklearn import datasets, linear_model\n",
    "regr = linear_model.LinearRegression(normalize=True)\n",
    "# Training du model de régression linéaire\n",
    "regr.fit(Xtrain, ytrain)\n",
    "y_pred = regr.predict(Xtest)"
   ]
  },
  {
   "cell_type": "code",
   "execution_count": 43,
   "metadata": {},
   "outputs": [
    {
     "data": {
      "text/plain": [
       "[<matplotlib.lines.Line2D at 0x1bf2b4b12c8>]"
      ]
     },
     "execution_count": 43,
     "metadata": {},
     "output_type": "execute_result"
    },
    {
     "data": {
      "image/png": "[encoded data removed]",
      "text/plain": [
       "<Figure size 432x288 with 1 Axes>"
      ]
     },
     "metadata": {
      "needs_background": "light"
     },
     "output_type": "display_data"
    }
   ],
   "source": [
    "plt.plot(np.sort(ytest,axis=0))\n",
    "plt.plot(np.sort(y_pred,axis=0),c='r')"
   ]
  },
  {
   "cell_type": "code",
   "execution_count": 44,
   "metadata": {},
   "outputs": [
    {
     "name": "stdout",
     "output_type": "stream",
     "text": [
      "coeff : \n",
      " [-0.20138535 -0.00730049  0.00093166] \n",
      " Mean square error : 0.19658027643315495 \n",
      " Le Rcarré :  0.15957251342054024\n"
     ]
    }
   ],
   "source": [
    "print('coeff : \\n',regr.coef_,\n",
    "'\\n Mean square error :',mean_squared_error(ytest,y_pred),\n",
    "'\\n Le Rcarré : ', r2_score(ytest,y_pred))"
   ]
  },
  {
   "cell_type": "markdown",
   "metadata": {},
   "source": [
    "Cette droite semble suivre \n",
    "\n",
    "### Regression linéaire sur les variables les plus corrélées: \n",
    "##### les variables Pclass , Fare, Sex, Embarked"
   ]
  },
  {
   "cell_type": "code",
   "execution_count": 45,
   "metadata": {},
   "outputs": [],
   "source": [
    "train = pd.read_csv(\"data/train_clean.csv\", sep=',')\n",
    "test = pd.read_csv(\"data/test_clean.csv\", sep =',')"
   ]
  },
  {
   "cell_type": "code",
   "execution_count": 46,
   "metadata": {},
   "outputs": [],
   "source": [
    "y= train.pop('Survived')\n",
    "X = train"
   ]
  },
  {
   "cell_type": "code",
   "execution_count": 47,
   "metadata": {},
   "outputs": [],
   "source": [
    "X = X.drop(columns=['PassengerId','SibSp', 'Parch'])\n",
    "X= pd.get_dummies(X)"
   ]
  },
  {
   "cell_type": "code",
   "execution_count": 48,
   "metadata": {},
   "outputs": [],
   "source": [
    "Xtrain,Xtest, ytrain,ytest = train_test_split(X,y,test_size=0.3)"
   ]
  },
  {
   "cell_type": "code",
   "execution_count": 49,
   "metadata": {},
   "outputs": [],
   "source": [
    "from sklearn import datasets, linear_model\n",
    "regr = linear_model.LinearRegression(normalize=True)\n",
    "# Training du model de régression linéaire\n",
    "regr.fit(Xtrain, ytrain)\n",
    "y_pred = regr.predict(Xtest)"
   ]
  },
  {
   "cell_type": "code",
   "execution_count": 50,
   "metadata": {},
   "outputs": [
    {
     "data": {
      "text/plain": [
       "[<matplotlib.lines.Line2D at 0x1bf2b52de48>]"
      ]
     },
     "execution_count": 50,
     "metadata": {},
     "output_type": "execute_result"
    },
    {
     "data": {
      "image/png": "[encoded data removed]",
      "text/plain": [
       "<Figure size 432x288 with 1 Axes>"
      ]
     },
     "metadata": {
      "needs_background": "light"
     },
     "output_type": "display_data"
    }
   ],
   "source": [
    "plt.plot(np.sort(ytest,axis=0))\n",
    "plt.plot(np.sort(y_pred,axis=0),c='r')"
   ]
  },
  {
   "cell_type": "code",
   "execution_count": 51,
   "metadata": {},
   "outputs": [
    {
     "name": "stdout",
     "output_type": "stream",
     "text": [
      "coeff : \n",
      " [-0.18042726 -0.00406082 -0.0003033   0.24231204 -0.24231204  0.05139721\n",
      "  0.05393442 -0.05973778] \n",
      " Mean square error : 0.13051519342442344 \n",
      " Le Rcarré :  0.4373275358633979\n"
     ]
    }
   ],
   "source": [
    "print('coeff : \\n',regr.coef_,\n",
    "'\\n Mean square error :',mean_squared_error(ytest,y_pred),\n",
    "'\\n Le Rcarré : ', r2_score(ytest,y_pred))"
   ]
  },
  {
   "cell_type": "markdown",
   "metadata": {},
   "source": [
    "### Que ce soit pour une regression linéaire simple ou multivariée, celles si ne sont pas adaptée à ce type de données. Comme nous le montre les graphiques, la régression linéaire ne classifie pas notre résultat comme survivant .\n"
   ]
  },
  {
   "cell_type": "code",
   "execution_count": null,
   "metadata": {},
   "outputs": [],
   "source": []
  },
  {
   "cell_type": "code",
   "execution_count": null,
   "metadata": {},
   "outputs": [],
   "source": []
  }
 ],
 "metadata": {
  "kernelspec": {
   "display_name": "Python 3",
   "language": "python",
   "name": "python3"
  },
  "language_info": {
   "codemirror_mode": {
    "name": "ipython",
    "version": 3
   },
   "file_extension": ".py",
   "mimetype": "text/x-python",
   "name": "python",
   "nbconvert_exporter": "python",
   "pygments_lexer": "ipython3",
   "version": "3.7.4"
  }
 },
 "nbformat": 4,
 "nbformat_minor": 2
}
